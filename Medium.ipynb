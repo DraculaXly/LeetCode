{
 "cells": [
  {
   "cell_type": "markdown",
   "metadata": {},
   "source": [
    "### 2. 两数相加  \n",
    "给出两个 非空 的链表用来表示两个非负的整数。其中，它们各自的位数是按照 逆序 的方式存储的，并且它们的每个节点只能存储 一位 数字。  \n",
    "如果，我们将这两个数相加起来，则会返回一个新的链表来表示它们的和。  \n",
    "您可以假设除了数字 0 之外，这两个数都不会以 0 开头。  \n",
    "示例：  \n",
    "输入：(2 -> 4 -> 3) + (5 -> 6 -> 4)  \n",
    "输出：7 -> 0 -> 8  \n",
    "原因：342 + 465 = 807  "
   ]
  },
  {
   "cell_type": "code",
   "execution_count": 30,
   "metadata": {},
   "outputs": [],
   "source": [
    "class Solution:\n",
    "    def addTwoNumbers(l1, l2):\n",
    "        result = []\n",
    "        carry = 0\n",
    "        while (l1 or l2):\n",
    "            x = l1[0] if l1 else 0\n",
    "            y = l2[0] if l2 else 0\n",
    "            s = x + y + carry\n",
    "            carry = s // 10\n",
    "            result.append(s % 10)\n",
    "            if l1: l1.pop(0)\n",
    "            if l2: l2.pop(0)\n",
    "        if carry > 0:\n",
    "            result.append(1)\n",
    "        return result"
   ]
  },
  {
   "cell_type": "code",
   "execution_count": 32,
   "metadata": {
    "tags": []
   },
   "outputs": [
    {
     "name": "stdout",
     "output_type": "stream",
     "text": [
      "[0, 1, 2, 1]\n",
      "[7, 1, 4, 4, 5, 6]\n"
     ]
    }
   ],
   "source": [
    "print(Solution.addTwoNumbers([5,4,7], [5,6,4]))\n",
    "print(Solution.addTwoNumbers([2,5,9,8,7], [5,6,4,5,7,5]))"
   ]
  },
  {
   "cell_type": "markdown",
   "metadata": {},
   "source": [
    "### 3. 无重复字符的最长子串  \n",
    "给定一个字符串，请你找出其中不含有重复字符的 最长子串 的长度。  \n",
    "示例 1:  \n",
    "输入: \"abcabcbb\"  \n",
    "输出: 3   \n",
    "解释: 因为无重复字符的最长子串是 \"abc\"，所以其长度为 3。  \n",
    "示例 2:  \n",
    "输入: \"bbbbb\"  \n",
    "输出: 1  \n",
    "解释: 因为无重复字符的最长子串是 \"b\"，所以其长度为 1。  \n",
    "示例 3:  \n",
    "输入: \"pwwkew\"  \n",
    "输出: 3  \n",
    "解释: 因为无重复字符的最长子串是 \"wke\"，所以其长度为 3。  \n",
    "     请注意，你的答案必须是 子串 的长度，\"pwke\" 是一个子序列，不是子串。  "
   ]
  },
  {
   "cell_type": "code",
   "execution_count": 1,
   "metadata": {},
   "outputs": [],
   "source": [
    "class Solution:\n",
    "    def lengthOfLongestSubstring(s):\n",
    "        s_length = len(s)\n",
    "        if s_length < 2:\n",
    "            return s_length\n",
    "        # 遍历并记录每次的长度\n",
    "        # result = 0\n",
    "        # for i in range(s_length):\n",
    "        #     j = i + 1\n",
    "        #     d = [s[i]]\n",
    "        #     while j < s_length:\n",
    "        #         if s[j] not in d:\n",
    "        #             d.append(s[j])\n",
    "        #             j += 1\n",
    "        #         else:\n",
    "        #             break\n",
    "        #     if len(d) > result:\n",
    "        #         result = len(d)\n",
    "        # return result\n",
    "        # 滑动窗口\n",
    "        d = set()\n",
    "        p, ans = -1, 0\n",
    "        for i in range(s_length):\n",
    "            if i != 0:\n",
    "                d.remove(s[i - 1])\n",
    "            while p + 1 < s_length and s[p + 1] not in d:\n",
    "                d.add(s[p + 1])\n",
    "                p += 1\n",
    "            ans = max(ans, p - i + 1)\n",
    "        return ans"
   ]
  },
  {
   "cell_type": "code",
   "execution_count": 2,
   "metadata": {
    "tags": []
   },
   "outputs": [
    {
     "output_type": "stream",
     "name": "stdout",
     "text": "3\n"
    }
   ],
   "source": [
    "print(Solution.lengthOfLongestSubstring('bvbd'))"
   ]
  },
  {
   "cell_type": "markdown",
   "metadata": {},
   "source": [
    "### 5. 最长回文子串\n",
    "给定一个字符串 s，找到 s 中最长的回文子串。你可以假设 s 的最大长度为 1000。  \n",
    "示例 1：  \n",
    "输入: \"babad\"  \n",
    "输出: \"bab\"  \n",
    "注意: \"aba\" 也是一个有效答案。  \n",
    "示例 2：  \n",
    "输入: \"cbbd\"  \n",
    "输出: \"bb\"  "
   ]
  },
  {
   "cell_type": "code",
   "execution_count": 18,
   "metadata": {},
   "outputs": [],
   "source": [
    "class Solution:\n",
    "    def longestPalindrome(s):\n",
    "        # 暴力法，按照长度递减找到解即退出，但是较坏情况下会超时，毕竟有了三重循环\n",
    "        # def condition(s):\n",
    "        #     for i in range(len(s) // 2):\n",
    "        #         if s[i] != s[len(s) - i - 1]:\n",
    "        #             return False\n",
    "        #     return True\n",
    "        # if not s:\n",
    "        #     return s\n",
    "        # s_length = len(s)\n",
    "        # for i in range(1, s_length + 1):\n",
    "        #     for j in range(i):\n",
    "        #         sub_s = s[j: s_length + j - i + 1]\n",
    "        #         if condition(sub_s):\n",
    "        #             return sub_s\n",
    "        # 动态规划，其实官方的这个并不是最优，不过先搬过来了，毕竟下面还有更优解\n",
    "        # n = len(s)\n",
    "        # dp = [[False] * n for _ in range(n)] # 空间存储达到n²，不建议使用此\n",
    "        # ans = ''\n",
    "        # # 枚举子串长度\n",
    "        # for l in range(n):\n",
    "        #     # 枚举子串起始位置，可以得到子串的结束位置\n",
    "        #     for i in range(n):\n",
    "        #         j = i + l # 结束位置\n",
    "        #         if j >= len(s):\n",
    "        #             break\n",
    "        #         if l == 0:\n",
    "        #             dp[i][j] = True\n",
    "        #         elif l == 1:\n",
    "        #             dp[i][j] = (s[i] == s[j])\n",
    "        #         else:\n",
    "        #             dp[i][j] = (dp[i + 1][j - 1] and s[i] == s[j])\n",
    "        #         if dp[i][j] and l + 1 > len(ans):\n",
    "        #             ans = s[i: j + 1]\n",
    "        # return ans\n",
    "        # 中心扩展\n",
    "        # if not s:\n",
    "        #     return s\n",
    "        # def expandCenter(s, left, right):\n",
    "        #     while left >= 0 and right < len(s) and s[left] == s[right]:\n",
    "        #         left -= 1\n",
    "        #         right += 1\n",
    "        #     return left + 1, right - 1\n",
    "        # start, end = 0, 0\n",
    "        # for i in range(len(s)):\n",
    "        #     # 边界子串视为1或2\n",
    "        #     left1, right1 = expandCenter(s, i, i)\n",
    "        #     left2, right2 = expandCenter(s, i, i + 1)\n",
    "        #     if right1 - left1 > end - start:\n",
    "        #         start, end = left1, right1\n",
    "        #     if right2 - left2 > end - start:\n",
    "        #         start, end = left2, right2\n",
    "        # return s[start: end + 1]"
   ]
  },
  {
   "cell_type": "code",
   "execution_count": 19,
   "metadata": {
    "tags": []
   },
   "outputs": [
    {
     "output_type": "stream",
     "name": "stdout",
     "text": "aaaaaaaaaaaaaaaaaaaaaaaaaaaaaaaaaaaaaaaaaaaaaaaaaaaaaaaaaaaaaaaaaaaaaaaaaaaaaaaaaaaaaaaaaaaaaaaaaaaaaaaaaaaaaaaaaaaaaaaaaaaaaaaaaaaaaaaaaaaaaaaaaaaaaaaaaaaaaaaaaaaaaaaaaaaaaaaaaaaaaaaaaaaaaaaaaaaaaaaaaaaaaaaaaaaaaaaaaaaaaaaaaaaaaaaaaaaaaaaaaaaaaaaaaaaaaaaaaaaaaaaaaaaaaaaaaaaaaaaaaaaaaaaaaaaaaaaaaaaaaaaaaaaaaaaaaaaaaaaaaaaaaaaaaaaaaaaaaaaaaaaaaaaaaaaaaaaaaaaaaaaaaaaaaaaaaaaaaaaaaaaaaaaaaaaaaaaaaaaaaaaaaaaaaaaaaaaaaaaaaaaaaaaaaaaaaaaaaaaaaaaaaaaaaaaaaaaaaaaaaaaaaaaaaaaaaaaaaaaaaaaaaaaaaaaaaaaaaaaa\n"
    }
   ],
   "source": [
    "print(Solution.longestPalindrome(\"aaaaaaaaaaaaaaaaaaaaaaaaaaaaaaaaaaaaaaaaaaaaaaaaaaaaaaaaaaaaaaaaaaaaaaaaaaaaaaaaaaaaaaaaaaaaaaaaaaaaaaaaaaaaaaaaaaaaaaaaaaaaaaaaaaaaaaaaaaaaaaaaaaaaaaaaaaaaaaaaaaaaaaaaaaaaaaaaaaaaaaaaaaaaaaaaaaaaaaaaaaaaaaaaaaaaaaaaaaaaaaaaaaaaaaaaaaaaaaaaaaaaaaaaaaaaaaaaaaaaaaaaaaaaaaaaaaaaaaaaaaaaaaaaaaaaaaaaaaaaaaaaaaaaaaaaaaaaaaaaaaaaaaaaaaaaaaaaaaaaaaaaaaaaaaaaaaaaaaaaaaaaaaaaaaaaaaaaaaaaaaaaaaaaaaaaaaaaaaaaaaaaaaaaaaaaaaaaaaaaaaaaaaaaaaaaaaaaaaaaaaaaaaaaaaaaaaaaaaaaaaaaaaaaaaaaaaaaaaaaaaaaaaaaaaaaaaaaaaaabcaaaaaaaaaaaaaaaaaaaaaaaaaaaaaaaaaaaaaaaaaaaaaaaaaaaaaaaaaaaaaaaaaaaaaaaaaaaaaaaaaaaaaaaaaaaaaaaaaaaaaaaaaaaaaaaaaaaaaaaaaaaaaaaaaaaaaaaaaaaaaaaaaaaaaaaaaaaaaaaaaaaaaaaaaaaaaaaaaaaaaaaaaaaaaaaaaaaaaaaaaaaaaaaaaaaaaaaaaaaaaaaaaaaaaaaaaaaaaaaaaaaaaaaaaaaaaaaaaaaaaaaaaaaaaaaaaaaaaaaaaaaaaaaaaaaaaaaaaaaaaaaaaaaaaaaaaaaaaaaaaaaaaaaaaaaaaaaaaaaaaaaaaaaaaaaaaaaaaaaaaaaaaaaaaaaaaaaaaaaaaaaaaaaaaaaaaaaaaaaaaaaaaaaaaaaaaaaaaaaaaaaaaaaaaaaaaaaaaaaaaaaaaaaaaaaaaaaaaaaaaaaaaaaaaaaaaaaaaaaaaaaaaaaaaaaaaaaaaa\"))"
   ]
  },
  {
   "cell_type": "markdown",
   "metadata": {},
   "source": [
    "### 6. Z自行变换\n",
    "将一个给定字符串根据给定的行数，以从上往下、从左到右进行 Z 字形排列。  \n",
    "比如输入字符串为 \"LEETCODEISHIRING\" 行数为 3 时，排列如下：  \n",
    "L   C   I   R  \n",
    "E T O E S I I G  \n",
    "E   D   H   N  \n",
    "之后，你的输出需要从左往右逐行读取，产生出一个新的字符串，比如：\"LCIRETOESIIGEDHN\"。  \n",
    "请你实现这个将字符串进行指定行数变换的函数：  \n",
    "string convert(string s, int numRows);  \n",
    "示例 1:  \n",
    "输入: s = \"LEETCODEISHIRING\", numRows = 3  \n",
    "输出: \"LCIRETOESIIGEDHN\"  \n",
    "示例 2:  \n",
    "输入: s = \"LEETCODEISHIRING\", numRows = 4  \n",
    "输出: \"LDREOEIIECIHNTSG\"  \n",
    "解释:  \n",
    "L     D     R  \n",
    "E   O E   I I  \n",
    "E C   I H   N  \n",
    "T     S     G  "
   ]
  },
  {
   "cell_type": "code",
   "execution_count": 19,
   "metadata": {},
   "outputs": [],
   "source": [
    "class Solution:\n",
    "    def convert(s, numRows):\n",
    "        if numRows == 1: return s\n",
    "        ans = \"\"\n",
    "        # s_length = len(s)\n",
    "        # base = 2 * numRows - 2\n",
    "        # # 按行读取\n",
    "        # for i in range(numRows):\n",
    "        #     # 下一个步长应该是base，并且需要i+j的下标不大于字符串长度\n",
    "        #     for j in range(0, s_length - i, base):\n",
    "        #         ans += s[i + j]\n",
    "        #         # 如果不是首尾两行，需要再增加一个字符\n",
    "        #         if (i != 0 and i != numRows - 1 and j + base - i < s_length):\n",
    "        #             ans += s[j + base - i]\n",
    "        # return ans\n",
    "        # 按行排序\n",
    "        list_s = [\"\" for _ in range(numRows)]\n",
    "        cur_row = 0\n",
    "        down_flag = False\n",
    "        for i in s:\n",
    "            list_s[cur_row] += i\n",
    "            if (cur_row == 0 or cur_row == numRows - 1):\n",
    "                down_flag = not down_flag\n",
    "            cur_row += 1 if down_flag else -1\n",
    "        for row in list_s:\n",
    "            ans += row\n",
    "        return ans\n"
   ]
  },
  {
   "cell_type": "code",
   "execution_count": 20,
   "metadata": {
    "tags": []
   },
   "outputs": [
    {
     "output_type": "stream",
     "name": "stdout",
     "text": "LCIRETOESIIGEDHN\n"
    }
   ],
   "source": [
    "print(Solution.convert('LEETCODEISHIRING', 3))"
   ]
  },
  {
   "cell_type": "code",
   "execution_count": null,
   "metadata": {},
   "outputs": [],
   "source": []
  }
 ],
 "metadata": {
  "kernelspec": {
   "display_name": "Python 3.7.6 64-bit",
   "language": "python",
   "name": "python37664bit8c310bedfb8743d8a295d8a031801094"
  },
  "language_info": {
   "codemirror_mode": {
    "name": "ipython",
    "version": 3
   },
   "file_extension": ".py",
   "mimetype": "text/x-python",
   "name": "python",
   "nbconvert_exporter": "python",
   "pygments_lexer": "ipython3",
   "version": "3.7.6-final"
  }
 },
 "nbformat": 4,
 "nbformat_minor": 2
}