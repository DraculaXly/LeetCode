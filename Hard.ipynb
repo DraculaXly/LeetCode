{
 "metadata": {
  "language_info": {
   "codemirror_mode": {
    "name": "ipython",
    "version": 3
   },
   "file_extension": ".py",
   "mimetype": "text/x-python",
   "name": "python",
   "nbconvert_exporter": "python",
   "pygments_lexer": "ipython3",
   "version": "3.7.6-final"
  },
  "orig_nbformat": 2,
  "kernelspec": {
   "name": "python37664bit8c310bedfb8743d8a295d8a031801094",
   "display_name": "Python 3.7.6 64-bit"
  }
 },
 "nbformat": 4,
 "nbformat_minor": 2,
 "cells": [
  {
   "cell_type": "markdown",
   "metadata": {},
   "source": [
    "### 4. 寻找两个正序数组中的中位数  \n",
    "给定两个大小为 m 和 n 的正序（从小到大）数组 nums1 和 nums2。  \n",
    "请你找出这两个正序数组的中位数，并且要求算法的时间复杂度为 O(log(m + n))。  \n",
    "你可以假设 nums1 和 nums2 不会同时为空。  \n",
    "示例 1:  \n",
    "nums1 = [1, 3]  \n",
    "nums2 = [2]  \n",
    "则中位数是 2.0  \n",
    "示例 2:  \n",
    "nums1 = [1, 2]  \n",
    "nums2 = [3, 4]  \n",
    "则中位数是 (2 + 3)/2 = 2.5  "
   ]
  },
  {
   "cell_type": "code",
   "execution_count": 23,
   "metadata": {},
   "outputs": [],
   "source": [
    "class Solution:\n",
    "    def findMedianSortedArrays(nums1, nums2):\n",
    "        def getK(k):\n",
    "            p1, p2 = 0, 0\n",
    "            while True:\n",
    "                if p1 == m:\n",
    "                    return nums2[p2 + k - 1]\n",
    "                if p2 == n:\n",
    "                    return nums1[p1 + k - 1]\n",
    "                if k == 1:\n",
    "                    return min(nums1[p1], nums2[p2])\n",
    "                new_p1 = min(p1 + k // 2 - 1, m - 1)\n",
    "                new_p2 = min(p2 + k // 2 - 1, n - 1)\n",
    "                nums1_p = nums1[new_p1]\n",
    "                nums2_p = nums2[new_p2]\n",
    "                if nums1_p <= nums2_p:\n",
    "                    k -= new_p1 - p1 + 1\n",
    "                    p1 = new_p1 + 1\n",
    "                else:\n",
    "                    k -= new_p2 - p2 + 1\n",
    "                    p2 = new_p2 + 1\n",
    "        m, n = len(nums1), len(nums2)\n",
    "        total_length = m + n\n",
    "        return (getK((total_length + 1) // 2) + getK((total_length + 2) // 2)) / 2"
   ]
  },
  {
   "cell_type": "code",
   "execution_count": 24,
   "metadata": {
    "tags": []
   },
   "outputs": [
    {
     "output_type": "stream",
     "name": "stdout",
     "text": "1.5\n3.5\n"
    }
   ],
   "source": [
    "print(Solution.findMedianSortedArrays([1], [2]))\n",
    "print(Solution.findMedianSortedArrays([1, 4], [2, 3, 5, 6]))"
   ]
  },
  {
   "cell_type": "code",
   "execution_count": null,
   "metadata": {},
   "outputs": [],
   "source": []
  }
 ]
}