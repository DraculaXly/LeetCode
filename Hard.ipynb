{
 "metadata": {
  "language_info": {
   "codemirror_mode": {
    "name": "ipython",
    "version": 3
   },
   "file_extension": ".py",
   "mimetype": "text/x-python",
   "name": "python",
   "nbconvert_exporter": "python",
   "pygments_lexer": "ipython3",
   "version": "3.8.5-final"
  },
  "orig_nbformat": 2,
  "kernelspec": {
   "name": "python38564bitd6b24316ed9c45ef904db727e98f579f",
   "display_name": "Python 3.8.5 64-bit"
  }
 },
 "nbformat": 4,
 "nbformat_minor": 2,
 "cells": [
  {
   "cell_type": "markdown",
   "metadata": {},
   "source": [
    "### 4. 寻找两个正序数组中的中位数  \n",
    "给定两个大小为 m 和 n 的正序（从小到大）数组 nums1 和 nums2。  \n",
    "请你找出这两个正序数组的中位数，并且要求算法的时间复杂度为 O(log(m + n))。  \n",
    "你可以假设 nums1 和 nums2 不会同时为空。  \n",
    "示例 1:  \n",
    "nums1 = [1, 3]  \n",
    "nums2 = [2]  \n",
    "则中位数是 2.0  \n",
    "示例 2:  \n",
    "nums1 = [1, 2]  \n",
    "nums2 = [3, 4]  \n",
    "则中位数是 (2 + 3)/2 = 2.5  "
   ]
  },
  {
   "cell_type": "code",
   "execution_count": 23,
   "metadata": {},
   "outputs": [],
   "source": [
    "class Solution:\n",
    "    def findMedianSortedArrays(nums1, nums2):\n",
    "        def getK(k):\n",
    "            p1, p2 = 0, 0\n",
    "            while True:\n",
    "                if p1 == m:\n",
    "                    return nums2[p2 + k - 1]\n",
    "                if p2 == n:\n",
    "                    return nums1[p1 + k - 1]\n",
    "                if k == 1:\n",
    "                    return min(nums1[p1], nums2[p2])\n",
    "                new_p1 = min(p1 + k // 2 - 1, m - 1)\n",
    "                new_p2 = min(p2 + k // 2 - 1, n - 1)\n",
    "                nums1_p = nums1[new_p1]\n",
    "                nums2_p = nums2[new_p2]\n",
    "                if nums1_p <= nums2_p:\n",
    "                    k -= new_p1 - p1 + 1\n",
    "                    p1 = new_p1 + 1\n",
    "                else:\n",
    "                    k -= new_p2 - p2 + 1\n",
    "                    p2 = new_p2 + 1\n",
    "        m, n = len(nums1), len(nums2)\n",
    "        total_length = m + n\n",
    "        return (getK((total_length + 1) // 2) + getK((total_length + 2) // 2)) / 2"
   ]
  },
  {
   "cell_type": "code",
   "execution_count": 24,
   "metadata": {
    "tags": []
   },
   "outputs": [
    {
     "output_type": "stream",
     "name": "stdout",
     "text": "1.5\n3.5\n"
    }
   ],
   "source": [
    "print(Solution.findMedianSortedArrays([1], [2]))\n",
    "print(Solution.findMedianSortedArrays([1, 4], [2, 3, 5, 6]))"
   ]
  },
  {
   "cell_type": "markdown",
   "metadata": {},
   "source": [
    "### 10. 正则表达式匹配  \n",
    "给你一个字符串 s 和一个字符规律 p，请你来实现一个支持 '.' 和 '\\*' 的正则表达式匹配。  \n",
    "'.' 匹配任意单个字符  \n",
    "'\\*' 匹配零个或多个前面的那一个元素  \n",
    "所谓匹配，是要涵盖 整个 字符串 s的，而不是部分字符串。  \n",
    "说明:  \n",
    "s 可能为空，且只包含从 a-z 的小写字母。  \n",
    "p 可能为空，且只包含从 a-z 的小写字母，以及字符 . 和 \\*。  \n",
    "示例 1:  \n",
    "输入:  \n",
    "s = \"aa\"  \n",
    "p = \"a\"  \n",
    "输出: false  \n",
    "解释: \"a\" 无法匹配 \"aa\" 整个字符串。  \n",
    "示例 2:  \n",
    "输入:  \n",
    "s = \"aa\"  \n",
    "p = \"a\\*\"  \n",
    "输出: true  \n",
    "解释: 因为 '\\*' 代表可以匹配零个或多个前面的那一个元素, 在这里前面的元素就是 'a'。因此，字符串 \"aa\" 可被视为 'a' 重复了一次。  \n",
    "示例 3:  \n",
    "输入:  \n",
    "s = \"ab\"  \n",
    "p = \".\\*\"  \n",
    "输出: true  \n",
    "解释: \".\\*\" 表示可匹配零个或多个（'\\*'）任意字符（'.'）。  \n",
    "示例 4:  \n",
    "输入:  \n",
    "s = \"aab\"  \n",
    "p = \"c\\*a\\*b\"  \n",
    "输出: true\n",
    "解释: 因为 '\\*' 表示零个或多个，这里 'c' 为 0 个, 'a' 被重复一次。因此可以匹配字符串 \"aab\"。  \n",
    "示例 5:  \n",
    "输入:  \n",
    "s = \"mississippi\"  \n",
    "p = \"mis\\*is\\*p\\*.\"  \n",
    "输出: false  "
   ]
  },
  {
   "cell_type": "code",
   "execution_count": 5,
   "metadata": {},
   "outputs": [],
   "source": [
    "class Solution:\n",
    "    def isMatch(s, p):\n",
    "        # 递归\n",
    "        # if not p: return not s\n",
    "        # first = bool(s) and p[0] in {s[0], '.'}\n",
    "        # if len(p) >= 2 and p[1] == '*':\n",
    "        #     return self.isMatch(s, p[2:]) or first and self.isMatch(s[1:], p)\n",
    "        # else:\n",
    "        #     return first and self.isMatch(s[1:], p[1:])\n",
    "        # 动态规划\n",
    "        m, n = len(s), len(p)\n",
    "        memo = {}\n",
    "        def dp(i, j):\n",
    "            if ((i, j) in memo): return memo[(i, j)]\n",
    "            if (j == n): return i == m\n",
    "            pre = i < m and p[j] in {s[i], '.'}\n",
    "            if (j <= n - 2 and p[j + 1] == '*'):\n",
    "                tmp = dp(i, j + 2) or pre and dp(i + 1, j)\n",
    "            else:\n",
    "                tmp = pre and dp(i + 1, j)\n",
    "            memo[(i, j)] = tmp\n",
    "            return tmp\n",
    "        return dp(0, 0)\n"
   ]
  },
  {
   "cell_type": "code",
   "execution_count": 6,
   "metadata": {
    "tags": []
   },
   "outputs": [
    {
     "output_type": "stream",
     "name": "stdout",
     "text": "False\n"
    }
   ],
   "source": [
    "print(Solution.isMatch('aaa', 'b*'))"
   ]
  },
  {
   "source": [
    "### 23.合并K个升序链表\n",
    "给你一个链表数组，每个链表都已经按升序排列。  \n",
    "请你将所有链表合并到一个升序链表中，返回合并后的链表。  \n",
    "示例 1：  \n",
    "输入：lists = [[1,4,5],[1,3,4],[2,6]]  \n",
    "输出：[1,1,2,3,4,4,5,6]  \n",
    "解释：链表数组如下：  \n",
    "[  \n",
    "  1->4->5,  \n",
    "  1->3->4,  \n",
    "  2->6  \n",
    "]  \n",
    "将它们合并到一个有序链表中得到。  \n",
    "1->1->2->3->4->4->5->6"
   ],
   "cell_type": "markdown",
   "metadata": {}
  },
  {
   "cell_type": "code",
   "execution_count": 5,
   "metadata": {},
   "outputs": [],
   "source": [
    "from typing import List\n",
    "class ListNode:\n",
    "    def __init__(self, val=0, next=None):\n",
    "        self.val = val\n",
    "        self.next = next\n",
    "\n",
    "class Solution:\n",
    "    def mergeKLists(self, lists: List[ListNode]) -> ListNode:\n",
    "        # 分治\n",
    "        if not lists: return None\n",
    "        n = len(lists)\n",
    "        return self.merge(lists, 0, n - 1)\n",
    "\n",
    "    def merge(self, lists, left, right):\n",
    "        if left == right:\n",
    "            return lists[left]\n",
    "        mid = left + (right - left) // 2\n",
    "        l1 = self.merge(lists, left, mid)\n",
    "        l2 = self.merge(lists, mid + 1, right)\n",
    "        return self.mergeTwoLists(l1, l2)\n",
    "\n",
    "    def mergeTwoLists(self, l1, l2):\n",
    "        if not l1: return l2\n",
    "        if not l2: return l1\n",
    "        if l1.val < l2.val:\n",
    "            l1.next = self.mergeTwoLists(l1.next, l2)\n",
    "            return l1\n",
    "        else:\n",
    "            l2.next = self.mergeTwoLists(l1, l2.next)\n",
    "            return l2"
   ]
  },
  {
   "source": [
    "### 25.K 个一组翻转链表\n",
    "给你一个链表，每 k 个节点一组进行翻转，请你返回翻转后的链表。  \n",
    "k 是一个正整数，它的值小于或等于链表的长度。  \n",
    "如果节点总数不是 k 的整数倍，那么请将最后剩余的节点保持原有顺序。  \n",
    "示例：  \n",
    "给你这个链表：1->2->3->4->5  \n",
    "当 k = 2 时，应当返回: 2->1->4->3->5  \n",
    "当 k = 3 时，应当返回: 3->2->1->4->5"
   ],
   "cell_type": "markdown",
   "metadata": {}
  },
  {
   "cell_type": "code",
   "execution_count": 1,
   "metadata": {},
   "outputs": [],
   "source": [
    "class ListNode:\n",
    "    def __init__(self, val=0, next=None):\n",
    "        self.val = val\n",
    "        self.next = next\n",
    "class Solution:\n",
    "    def reverseKGroup(self, head: ListNode, k: int) -> ListNode:\n",
    "        hair = ListNode(0)\n",
    "        hair.next = head\n",
    "        pre = hair\n",
    "\n",
    "        while head:\n",
    "            tail = pre\n",
    "            for i in range(k):\n",
    "                tail = tail.next\n",
    "                if not tail:\n",
    "                    return hair.next\n",
    "            nex = tail.next\n",
    "            head, tail = self.reverse(head, tail)\n",
    "            pre.next = head\n",
    "            tail.next = nex\n",
    "            pre = tail\n",
    "            head = tail.next\n",
    "        return hair.next\n",
    "\n",
    "    def reverse(self, head: ListNode, tail: ListNode):\n",
    "        prev = tail.next #先将尾部节点指向一个prev标记\n",
    "        p = head\n",
    "        while prev != tail:\n",
    "            #将首部元素去替换prev,遇到tail时停止\n",
    "            nex = p.next #记录下一个移到尾部的元素\n",
    "            p.next = prev #相当于将p链接到当前的尾部\n",
    "            prev = p #将prev移位\n",
    "            p = nex #重新记录首部\n",
    "        return tail, head\n"
   ]
  },
  {
   "cell_type": "code",
   "execution_count": null,
   "metadata": {},
   "outputs": [],
   "source": []
  }
 ]
}