{
 "metadata": {
  "language_info": {
   "codemirror_mode": {
    "name": "ipython",
    "version": 3
   },
   "file_extension": ".py",
   "mimetype": "text/x-python",
   "name": "python",
   "nbconvert_exporter": "python",
   "pygments_lexer": "ipython3",
   "version": "3.8.6"
  },
  "orig_nbformat": 2,
  "kernelspec": {
   "name": "python38564bitd6b24316ed9c45ef904db727e98f579f",
   "display_name": "Python 3.8.5 64-bit",
   "language": "python"
  }
 },
 "nbformat": 4,
 "nbformat_minor": 2,
 "cells": [
  {
   "cell_type": "code",
   "execution_count": 4,
   "metadata": {},
   "outputs": [],
   "source": [
    "# 二分查找 log(n)\n",
    "def binary_search(nums, target):\n",
    "    left, right = 0, len(nums)\n",
    "    while left < right:\n",
    "        mid = left + (right - left) // 2\n",
    "        if nums[mid] < target:\n",
    "            left = mid + 1\n",
    "        else:\n",
    "            right = mid\n",
    "    return left"
   ]
  },
  {
   "cell_type": "code",
   "execution_count": 5,
   "metadata": {},
   "outputs": [
    {
     "output_type": "execute_result",
     "data": {
      "text/plain": [
       "5"
      ]
     },
     "metadata": {},
     "execution_count": 5
    }
   ],
   "source": [
    "binary_search([1,2,3,44,55,66,99], 66)"
   ]
  },
  {
   "cell_type": "code",
   "execution_count": 10,
   "metadata": {},
   "outputs": [],
   "source": [
    "# 算数平方根向下取整\n",
    "def mySqrt(x):\n",
    "    left, right = 0, x // 2 + 1\n",
    "    while left < right:\n",
    "        mid = left + (right - left) // 2\n",
    "        if mid ** 2 == x:\n",
    "            return mid\n",
    "        if mid ** 2 < x:\n",
    "            left = mid + 1\n",
    "        else:\n",
    "            right = mid\n",
    "    return left - 1"
   ]
  },
  {
   "cell_type": "code",
   "execution_count": 13,
   "metadata": {},
   "outputs": [
    {
     "output_type": "execute_result",
     "data": {
      "text/plain": [
       "1"
      ]
     },
     "metadata": {},
     "execution_count": 13
    }
   ],
   "source": [
    "mySqrt(3)"
   ]
  },
  {
   "cell_type": "code",
   "execution_count": null,
   "metadata": {},
   "outputs": [],
   "source": [
    "# BFS\n",
    "def bfs():\n",
    "     search_que = collections.deque()\n",
    "     search_que += graph(begin)\n",
    "     searched = []\n",
    "     while search_que:\n",
    "         first = search_que.popleft()\n",
    "         if first not in searched:\n",
    "             if helper(first):\n",
    "                 return True\n",
    "            else:\n",
    "                search_que += graph[next_level]\n",
    "                search_que.append(first)\n",
    "    return False"
   ]
  },
  {
   "cell_type": "code",
   "execution_count": 17,
   "metadata": {},
   "outputs": [],
   "source": [
    "# word ladder\n",
    "# 在BFS中保存已走过的步，并把合法的路径删掉\n",
    "import collections\n",
    "def ladderLength(begin_word, end_word, word_list):\n",
    "    wordset = set(word_list)\n",
    "    bfs = collections.deque()\n",
    "    bfs.append((begin_word, 1))\n",
    "    while bfs:\n",
    "        word, length = bfs.popleft()\n",
    "        if word == end_word:\n",
    "            return length\n",
    "        for i in range(len(word)):\n",
    "            for c in 'abcdefghijklmnopqrstuvwxyz':\n",
    "                new_word = word[:i] + c + word[i + 1:]\n",
    "                if new_word in wordset and new_word != word:\n",
    "                    wordset.remove(new_word)\n",
    "                    bfs.append((new_word, length + 1))\n",
    "    return 0"
   ]
  },
  {
   "cell_type": "code",
   "execution_count": 18,
   "metadata": {},
   "outputs": [],
   "source": [
    "# 使用优先级队列来优先走比较矮的路，最后保存最高的那个格子的高度。\n",
    "def swim_in_water(grid):\n",
    "    n = len(grid)\n",
    "    visited, pq = set((0, 0)), [(grid[0][0], 0, 0)]\n",
    "    res = 0\n",
    "    while pq:\n",
    "        T, i, j = heapq.heappop(pq)\n",
    "        res = max(res, T)\n",
    "        directions = [(0, 1), (0, -1), (-1, 0), (1, 0)]\n",
    "        if i == j == n - 1:\n",
    "            break\n",
    "        for dir in directions:\n",
    "            x, y = i + dir[0], j + dir[1]\n",
    "            if x < 0 or x >= n or y < 0 or y >= n or (x, y) in visited:\n",
    "                continue\n",
    "            heappq.heappush(pq, (grid[x][y], x, y))\n",
    "            visited.add((x, y))\n",
    "    return res"
   ]
  },
  {
   "cell_type": "code",
   "execution_count": 23,
   "metadata": {},
   "outputs": [],
   "source": [
    "'''\n",
    "需要找出某顶点到其他顶点的最短路径。出发顶点不是确定的，每个顶点有可能访问多次。使用N位bit代表访问过的顶点的状态。如果到达了最终状态，那么现在步数就是所求。这个题把所有的节点都放入了起始队列中，相当于每次都是所有的顶点向前走一步'''\n",
    "def shortest_path_length(graph):\n",
    "    N = len(graph)\n",
    "    que = collections.deque()\n",
    "    step = 0\n",
    "    goal = (1 << N) - 1\n",
    "    visited = [[0 for j in range(1 << N)] for i in range(N)]\n",
    "\n",
    "    for i in range(N):\n",
    "        que.append((i, 1 << i))\n",
    "\n",
    "    while que:\n",
    "        s = len(que)\n",
    "        for i in range(s):\n",
    "            node, state = que.popleft()\n",
    "            if state == goal:\n",
    "                return step\n",
    "            if visited[node][state]:\n",
    "                continue\n",
    "            visited[node][state] = 1\n",
    "            for next_node in graph[node]:\n",
    "                que.append((next_node, state | (1 << next_node)))\n",
    "        step += 1\n",
    "    return step"
   ]
  },
  {
   "cell_type": "code",
   "execution_count": 24,
   "metadata": {},
   "outputs": [],
   "source": [
    "# 多叉树的层次遍历，这个BFS写法我觉得很经典。适合记忆。\n",
    "\"\"\"\n",
    "# Definition for a Node.\n",
    "class Node(object):\n",
    "    def __init__(self, val, children):\n",
    "        self.val = val\n",
    "\"\"\"\n",
    "\n",
    "def level_order(root):\n",
    "    res = []\n",
    "    que = collections.deque()\n",
    "    que.append(root)\n",
    "\n",
    "    while que:\n",
    "        level = []\n",
    "        size = len(que)\n",
    "        for _ in range(size):\n",
    "            node = que.popleft()\n",
    "            if not node:\n",
    "                continue\n",
    "            level.append(node.val)\n",
    "            for child in node.children:\n",
    "                que.append(child)\n",
    "        if level:\n",
    "            res.append(level)\n",
    "    return res"
   ]
  },
  {
   "cell_type": "code",
   "execution_count": 25,
   "metadata": {},
   "outputs": [],
   "source": [
    "# DFS + 二分查找\n",
    "def swim_in_water(grid):\n",
    "    n = len(grid)\n",
    "    left, right = 0, n * n - 1\n",
    "    while left <= right:\n",
    "        mid = left + (right - left) // 2\n",
    "        if dfs([[False] * n for _ in range(n)], grid, mid, n, 0, 0):\n",
    "            right = mid - 1\n",
    "        else:\n",
    "            left = mid + 1\n",
    "    return left\n",
    "\n",
    "def dfs(visited, grid, mid, n, i, j):\n",
    "    visited[i][j] = True\n",
    "    if i == n - 1 and j == n - 1:\n",
    "        return True\n",
    "    directions = [(0, 1), (0, -1), (-1, 0), (1, 0)]\n",
    "    for _dir in directions:\n",
    "        x, y = i + _dir[0], j + _dir[1]\n",
    "        if x < 0 or x >= n or y < 0 or y >= n or visited[x][y] or max(mid, grid[x][y]) != max(mid, grid[x][y]):\n",
    "            continue\n",
    "        if dfs(visited, grid, mid, n, x, y):\n",
    "            return True\n",
    "    return False"
   ]
  },
  {
   "cell_type": "code",
   "execution_count": 1,
   "metadata": {},
   "outputs": [
    {
     "output_type": "error",
     "ename": "SyntaxError",
     "evalue": "invalid character in identifier (<ipython-input-1-85d9f7925031>, line 3)",
     "traceback": [
      "\u001b[1;36m  File \u001b[1;32m\"<ipython-input-1-85d9f7925031>\"\u001b[1;36m, line \u001b[1;32m3\u001b[0m\n\u001b[1;33m    if (回朔点）：# 这条路走到底的条件。也是递归出口\u001b[0m\n\u001b[1;37m            ^\u001b[0m\n\u001b[1;31mSyntaxError\u001b[0m\u001b[1;31m:\u001b[0m invalid character in identifier\n"
     ]
    }
   ],
   "source": [
    "# 回溯代码模板\n",
    "def backward():\n",
    "    if (回朔点）：# 这条路走到底的条件。也是递归出口\n",
    "        保存该结果\n",
    "        return   \n",
    "    else:\n",
    "        for route in all_route_set :  逐步选择当前节点下的所有可能route\n",
    "            if 剪枝条件：\n",
    "                剪枝前的操作\n",
    "                return   #不继续往下走了，退回上层，换个路再走\n",
    "            else：#当前路径可能是条可行路径\n",
    "                保存当前数据  #向下走之前要记住已经走过这个节点了。例如push当前节点\n",
    "                self.backward() #递归发生，继续向下走一步了。\n",
    "                回朔清理     # 该节点下的所有路径都走完了，清理堆栈，准备下一个递归。例如弹出当前节点\n",
    "\n"
   ]
  },
  {
   "cell_type": "code",
   "execution_count": null,
   "metadata": {},
   "outputs": [],
   "source": []
  }
 ]
}