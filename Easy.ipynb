{
 "cells": [
  {
   "cell_type": "markdown",
   "metadata": {},
   "source": [
    "1. 两数之和  \n",
    "给定一个整数数组 nums 和一个目标值 target，请你在该数组中找出和为目标值的那 两个 整数，并返回他们的数组下标。  \n",
    "你可以假设每种输入只会对应一个答案。但是，数组中同一个元素不能使用两遍。  \n",
    "示例:  \n",
    "给定 nums = [2, 7, 11, 15], target = 9  \n",
    "因为 nums[0] + nums[1] = 2 + 7 = 9  \n",
    "所以返回 [0, 1]"
   ]
  },
  {
   "cell_type": "code",
   "execution_count": 20,
   "metadata": {},
   "outputs": [],
   "source": [
    "def twoSum(nums, target):\n",
    "    nums_length = len(nums)\n",
    "#     暴力法\n",
    "#     for i in range(nums_length):\n",
    "#         for j in range(i + 1, nums_length):\n",
    "#             if nums[i] + nums[j] == target:\n",
    "#                 return [i, j]\n",
    "\n",
    "#     一遍哈希表\n",
    "#     d = dict()\n",
    "#     for i in range(nums_length):\n",
    "#         tmp = target - nums[i]\n",
    "#         if tmp in d:\n",
    "#             return [d[tmp], i]\n",
    "#         d[nums[i]] = i\n",
    "\n",
    "#   一行代码\n",
    "    return [[i, nums.index(target - nums[i])] for i in range(nums_length) if (target - nums[i]) in nums and i != nums.index(target - nums[i])][0]"
   ]
  },
  {
   "cell_type": "code",
   "execution_count": 21,
   "metadata": {},
   "outputs": [
    {
     "name": "stdout",
     "output_type": "stream",
     "text": [
      "[1, 3]\n"
     ]
    }
   ],
   "source": [
    "print(twoSum([2, 7, 11, 15], 22))"
   ]
  },
  {
   "cell_type": "code",
   "execution_count": null,
   "metadata": {},
   "outputs": [],
   "source": []
  }
 ],
 "metadata": {
  "kernelspec": {
   "display_name": "Python 3",
   "language": "python",
   "name": "python3"
  },
  "language_info": {
   "codemirror_mode": {
    "name": "ipython",
    "version": 3
   },
   "file_extension": ".py",
   "mimetype": "text/x-python",
   "name": "python",
   "nbconvert_exporter": "python",
   "pygments_lexer": "ipython3",
   "version": "3.7.6"
  }
 },
 "nbformat": 4,
 "nbformat_minor": 2
}