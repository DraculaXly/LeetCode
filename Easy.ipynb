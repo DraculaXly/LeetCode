{
 "cells": [
  {
   "cell_type": "markdown",
   "metadata": {},
   "source": [
    "### 1. 两数之和  \n",
    "给定一个整数数组 nums 和一个目标值 target，请你在该数组中找出和为目标值的那 两个 整数，并返回他们的数组下标。  \n",
    "你可以假设每种输入只会对应一个答案。但是，数组中同一个元素不能使用两遍。  \n",
    "示例:  \n",
    "给定 nums = [2, 7, 11, 15], target = 9  \n",
    "因为 nums[0] + nums[1] = 2 + 7 = 9  \n",
    "所以返回 [0, 1]"
   ]
  },
  {
   "cell_type": "code",
   "execution_count": 20,
   "metadata": {},
   "outputs": [],
   "source": [
    "def twoSum(nums, target):\n",
    "    nums_length = len(nums)\n",
    "#     暴力法\n",
    "#     for i in range(nums_length):\n",
    "#         for j in range(i + 1, nums_length):\n",
    "#             if nums[i] + nums[j] == target:\n",
    "#                 return [i, j]\n",
    "\n",
    "#     一遍哈希表\n",
    "#     d = dict()\n",
    "#     for i in range(nums_length):\n",
    "#         tmp = target - nums[i]\n",
    "#         if tmp in d:\n",
    "#             return [d[tmp], i]\n",
    "#         d[nums[i]] = i\n",
    "\n",
    "#   一行代码\n",
    "    return [[i, nums.index(target - nums[i])] for i in range(nums_length) if (target - nums[i]) in nums and i != nums.index(target - nums[i])][0]"
   ]
  },
  {
   "cell_type": "code",
   "execution_count": 21,
   "metadata": {},
   "outputs": [
    {
     "name": "stdout",
     "output_type": "stream",
     "text": [
      "[1, 3]\n"
     ]
    }
   ],
   "source": [
    "print(twoSum([2, 7, 11, 15], 22))"
   ]
  },
  {
   "cell_type": "markdown",
   "metadata": {},
   "source": [
    "### 7. 整数反转\n",
    "给出一个 32 位的有符号整数，你需要将这个整数中每位上的数字进行反转。  \n",
    "示例 1:  \n",
    "输入: 123  \n",
    "输出: 321  \n",
    " 示例 2:  \n",
    "输入: -123  \n",
    "输出: -321  \n",
    "示例 3:  \n",
    "输入: 120  \n",
    "输出: 21  "
   ]
  },
  {
   "cell_type": "code",
   "execution_count": 60,
   "metadata": {},
   "outputs": [],
   "source": [
    "class Solution:\n",
    "    def reverse(x):\n",
    "        # 字面理解转成字符串直接干，简单粗暴\n",
    "        # s = str(x) if x >= 0 else str(x)[1:]\n",
    "        # rev_s = s[::-1]\n",
    "        # ans = int(rev_s) if x >= 0 else 0 - int(rev_s)\n",
    "        # if ans < -2 ** 31 or ans > 2 ** 31 - 1:\n",
    "        #     return 0\n",
    "        # return ans\n",
    "        # 正儿八经，弹出个位数，好在python int类型范围大\n",
    "        y , rev = abs(x), 0\n",
    "        while y != 0:\n",
    "            pop = y % 10\n",
    "            y = y // 10\n",
    "            rev = rev * 10 + pop\n",
    "        rev = rev if x >=0 else -rev\n",
    "        if rev < -2 ** 31 or rev > 2 ** 31 - 1:\n",
    "            return 0\n",
    "        return rev"
   ]
  },
  {
   "cell_type": "code",
   "execution_count": 62,
   "metadata": {
    "tags": []
   },
   "outputs": [
    {
     "output_type": "stream",
     "name": "stdout",
     "text": "-321\n"
    }
   ],
   "source": [
    "print(Solution.reverse(-123))"
   ]
  },
  {
   "cell_type": "code",
   "execution_count": null,
   "metadata": {},
   "outputs": [],
   "source": []
  },
  {
   "cell_type": "code",
   "execution_count": null,
   "metadata": {},
   "outputs": [],
   "source": []
  }
 ],
 "metadata": {
  "kernelspec": {
   "display_name": "Python 3",
   "language": "python",
   "name": "python3"
  },
  "language_info": {
   "codemirror_mode": {
    "name": "ipython",
    "version": 3
   },
   "file_extension": ".py",
   "mimetype": "text/x-python",
   "name": "python",
   "nbconvert_exporter": "python",
   "pygments_lexer": "ipython3",
   "version": "3.7.6-final"
  }
 },
 "nbformat": 4,
 "nbformat_minor": 2
}